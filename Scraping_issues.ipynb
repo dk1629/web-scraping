{
 "cells": [
  {
   "cell_type": "markdown",
   "id": "d3368e1e",
   "metadata": {},
   "source": [
    "## Headers"
   ]
  },
  {
   "cell_type": "code",
   "execution_count": 1,
   "id": "f834e2aa",
   "metadata": {},
   "outputs": [],
   "source": [
    "import requests"
   ]
  },
  {
   "cell_type": "code",
   "execution_count": 2,
   "id": "58f1de08",
   "metadata": {},
   "outputs": [],
   "source": [
    "headers = {\n",
    "    \"User-Agent\": \"Mozilla/5.0 (X11; Linux x86_64) AppleWebKit/537.36 (KHTML, like Gecko) Chrome/51.0.2704.103 Safari/537.36\"\n",
    "}"
   ]
  },
  {
   "cell_type": "code",
   "execution_count": 5,
   "id": "9139fc98",
   "metadata": {},
   "outputs": [
    {
     "data": {
      "text/plain": [
       "200"
      ]
     },
     "execution_count": 5,
     "metadata": {},
     "output_type": "execute_result"
    }
   ],
   "source": [
    "r = requests.get(\"https://www.youtube.com/\")\n",
    "r.status_code"
   ]
  },
  {
   "cell_type": "code",
   "execution_count": 4,
   "id": "ce3da4f8",
   "metadata": {},
   "outputs": [
    {
     "data": {
      "text/plain": [
       "200"
      ]
     },
     "execution_count": 4,
     "metadata": {},
     "output_type": "execute_result"
    }
   ],
   "source": [
    "r = requests.get(\"https://www.youtube.com/\", headers = headers)\n",
    "r.status_code"
   ]
  },
  {
   "cell_type": "markdown",
   "id": "7e8e49c2",
   "metadata": {},
   "source": [
    "## Cookies\n",
    "\n",
    "- authentication cookie (cheking log-in info)"
   ]
  },
  {
   "cell_type": "code",
   "execution_count": 12,
   "id": "1f3b499c",
   "metadata": {},
   "outputs": [
    {
     "name": "stdout",
     "output_type": "stream",
     "text": [
      "<Response [200]>\n"
     ]
    }
   ],
   "source": [
    "### https://docs.python-requests.org/en/master/user/advanced/#session-objects\n",
    "\n",
    "url_1 = 'https://httpbin.org/cookies/set/sessioncookie/123456789'\n",
    "url_2 = 'https://httpbin.org/cookies'\n",
    "\n",
    "s = requests.Session()\n",
    "\n",
    "# r_1 = s.post(url_1, data = payload)\n",
    "r_1 = s.get(url_1)\n",
    "print(r_1)\n",
    "r_2 = s.get(url_2)\n",
    "\n",
    "s.close()"
   ]
  },
  {
   "cell_type": "code",
   "execution_count": null,
   "id": "49e731fc",
   "metadata": {},
   "outputs": [],
   "source": []
  }
 ],
 "metadata": {
  "kernelspec": {
   "display_name": "Python 3",
   "language": "python",
   "name": "python3"
  },
  "language_info": {
   "codemirror_mode": {
    "name": "ipython",
    "version": 3
   },
   "file_extension": ".py",
   "mimetype": "text/x-python",
   "name": "python",
   "nbconvert_exporter": "python",
   "pygments_lexer": "ipython3",
   "version": "3.9.6"
  }
 },
 "nbformat": 4,
 "nbformat_minor": 5
}
